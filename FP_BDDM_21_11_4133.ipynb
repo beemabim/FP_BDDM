{
  "nbformat": 4,
  "nbformat_minor": 0,
  "metadata": {
    "colab": {
      "private_outputs": true,
      "provenance": []
    },
    "kernelspec": {
      "name": "python3",
      "display_name": "Python 3"
    },
    "language_info": {
      "name": "python"
    }
  },
  "cells": [
    {
      "cell_type": "markdown",
      "source": [
        "## FP BDDM\n",
        "BIMA KARUNIA FAJAR SYAHPUTRA - 21.11.4133\n",
        "\n",
        "\n",
        "Judul : Prediksi Harga Mobil Bekas dengan Metode KNN\n",
        "\n",
        "Link Dataset :\n",
        "https://drive.google.com/file/d/1g7C4Ho8OV5vUOrrTJDM98KjCyrrMtVR2/view?usp=sharing"
      ],
      "metadata": {
        "id": "DxsWr5eAHKfw"
      }
    },
    {
      "cell_type": "markdown",
      "source": [
        "## 1. Import Library yang diperlukan"
      ],
      "metadata": {
        "id": "JzHo13MQH4Fx"
      }
    },
    {
      "cell_type": "code",
      "execution_count": null,
      "metadata": {
        "id": "IOxMVEtNGhIW"
      },
      "outputs": [],
      "source": [
        "import pandas as pd\n",
        "import numpy as np\n",
        "import matplotlib.pyplot as plt\n",
        "import sklearn.metrics as metrics\n",
        "row_data = pd.read_csv('/content/drive/MyDrive/semester 5/BIGDATA MINING/Dataset/data mobil bekas.csv')"
      ]
    },
    {
      "cell_type": "markdown",
      "source": [
        "## 2. Load data harga mobil bekas di Kendari berdasarkan lokasi data"
      ],
      "metadata": {
        "id": "okmHGmCLIaFB"
      }
    },
    {
      "cell_type": "code",
      "source": [
        "row_data.shape"
      ],
      "metadata": {
        "id": "O2XugaDyIbkZ"
      },
      "execution_count": null,
      "outputs": []
    },
    {
      "cell_type": "code",
      "source": [
        "row_data.describe"
      ],
      "metadata": {
        "id": "Cqw7wBXWIdVP"
      },
      "execution_count": null,
      "outputs": []
    },
    {
      "cell_type": "markdown",
      "source": [
        "## 3. Bersihkan data yang tidak lengkap"
      ],
      "metadata": {
        "id": "8VMOPhU2Ii40"
      }
    },
    {
      "cell_type": "code",
      "source": [
        "data = row_data.dropna(axis=0)\n",
        "data.describe()"
      ],
      "metadata": {
        "id": "M5xk4C65IiQ3"
      },
      "execution_count": null,
      "outputs": []
    },
    {
      "cell_type": "code",
      "source": [
        "print (row_data.dtypes)"
      ],
      "metadata": {
        "id": "oCTSqU5PIp6S"
      },
      "execution_count": null,
      "outputs": []
    },
    {
      "cell_type": "markdown",
      "source": [
        "## 4. Definisikan input output data yang menggunakan tipe data integer dan float"
      ],
      "metadata": {
        "id": "Jr06ba_zIskv"
      }
    },
    {
      "cell_type": "code",
      "source": [
        "features = ['tahun', 'jarak_tempuh', 'pajak', 'mpg', 'ukuran_mesin']\n",
        "x = data[features]\n",
        "y = data['harga']\n",
        "x.shape, y.shape"
      ],
      "metadata": {
        "id": "JcyagIm9IuBU"
      },
      "execution_count": null,
      "outputs": []
    },
    {
      "cell_type": "markdown",
      "source": [
        "## 5. Membagi data untuk training dan validasi (test)"
      ],
      "metadata": {
        "id": "neoTLZWUIyHw"
      }
    },
    {
      "cell_type": "code",
      "source": [
        "from sklearn.model_selection import train_test_split\n",
        "train_x, test_x, train_y, test_y = train_test_split(x, y, random_state = 40)"
      ],
      "metadata": {
        "id": "-OOQmhPZIwEf"
      },
      "execution_count": null,
      "outputs": []
    },
    {
      "cell_type": "code",
      "source": [
        "test_y.shape"
      ],
      "metadata": {
        "id": "nAKchTOXI2KV"
      },
      "execution_count": null,
      "outputs": []
    },
    {
      "cell_type": "markdown",
      "source": [
        "## 6. Membangun machine learning model dengan algoritma K-Nearest Neighbors"
      ],
      "metadata": {
        "id": "B_q6YlwBI5e3"
      }
    },
    {
      "cell_type": "code",
      "source": [
        "from sklearn.neighbors import KNeighborsRegressor as KNN_Reg\n",
        "from sklearn.metrics import mean_squared_error as mse\n",
        "\n",
        "model = KNN_Reg(n_neighbors = 40)\n",
        "\n",
        "# training the model:\n",
        "model.fit(train_x, train_y)\n",
        "acc1 = model.score(test_x, test_y)\n",
        "\n",
        "# test for prediction\n",
        "test_predict = model.predict(test_x)\n",
        "score = mse(test_predict, test_y)\n",
        "print(' MSE: ', score, '\\n', 'Accuracy: ', acc1)"
      ],
      "metadata": {
        "id": "Rbh97I18I6kp"
      },
      "execution_count": null,
      "outputs": []
    },
    {
      "cell_type": "markdown",
      "source": [
        "## 7. Menggunakan Elbow method untuk menentukan nilai K terbaik"
      ],
      "metadata": {
        "id": "CNmKzNz-JC_7"
      }
    },
    {
      "cell_type": "code",
      "source": [
        "def Elbow(K):\n",
        "  #initiating an empy list\n",
        "  test_mse =[]\n",
        "\n",
        "  #train model for every value of K\n",
        "  for i in K:\n",
        "    model = KNN_Reg(n_neighbors=i)\n",
        "    model.fit(train_x, train_y)\n",
        "    tmp = model.predict(test_x)\n",
        "    tmp = mse(tmp, test_y)\n",
        "    test_mse.append(tmp)\n",
        "\n",
        "  return test_mse"
      ],
      "metadata": {
        "id": "oWoWbwy0JBwI"
      },
      "execution_count": null,
      "outputs": []
    },
    {
      "cell_type": "markdown",
      "source": [
        "## 8. Menampilkan grafik nilai k berdasarkan MSE"
      ],
      "metadata": {
        "id": "qGuJF0iKJ7gT"
      }
    },
    {
      "cell_type": "code",
      "source": [
        "K = range(20, 30)\n",
        "test = Elbow(K)\n",
        "\n",
        "#plotting\n",
        "plt.plot(K,test)\n",
        "plt.xlabel('K Neighbors')\n",
        "plt.ylabel('Mean Squared Error (MSE)')\n",
        "plt.title('Elbow Curve for Test')"
      ],
      "metadata": {
        "id": "Xjc2gqetJ9Ju"
      },
      "execution_count": null,
      "outputs": []
    },
    {
      "cell_type": "markdown",
      "source": [
        "## 9. Melakukan koreksi nilai K dengan menggunakan nilai K terbaik berdasarkan hasil dari Elbow method"
      ],
      "metadata": {
        "id": "bLRIQr5QKD67"
      }
    },
    {
      "cell_type": "code",
      "source": [
        "new_model = KNN_Reg(n_neighbors=28)\n",
        "\n",
        "# Train model\n",
        "new_model.fit(train_x, train_y)\n",
        "acc2 = new_model.score(test_x, test_y)\n",
        "\n",
        "# Prediction test\n",
        "print(' Accuracy of new model (%):', acc2*100, '\\n', 'Accuracy of old model (%):', acc1*100, '\\n Improvement (%):', (acc2-acc1)*100)"
      ],
      "metadata": {
        "id": "bA1mNQ48KDvd"
      },
      "execution_count": null,
      "outputs": []
    },
    {
      "cell_type": "markdown",
      "source": [
        "## 10. Contoh penggunaan machine learning yang dibuat untuk memprediksi harga mobil bekas"
      ],
      "metadata": {
        "id": "Fxi2h7lVKIXI"
      }
    },
    {
      "cell_type": "code",
      "source": [
        "row_data = np.array([[2012,12000,11300000,33,2.3]])\n",
        "prediction_old = model.predict(row_data)\n",
        "prediction_new = new_model.predict(row_data)\n",
        "print(' Hasil Prediksi harga mobil bekas dengan old model: £', prediction_old, 'atau jika dirupiahkan yaitu: Rp', prediction_old * 19110*1e-6, 'Juta\\n',\n",
        "      'Hasil Prediksi harga mobil bekas dengan new model: £', prediction_new, 'atau jika dirupiahkan yaitu: Rp', prediction_new * 19110*1e-6, 'Juta')"
      ],
      "metadata": {
        "id": "Zr9En422KDEO"
      },
      "execution_count": null,
      "outputs": []
    },
    {
      "cell_type": "markdown",
      "source": [
        "Kesimpulan\n",
        "\n",
        "Dari hasil percobaan yang telah dilakukan, maka dapat diambil kesimpulan bahwa algoritma KNN dapat diterapkan untuk prediksi harga mobil bekas dengan dengan menggunakan data tahun, jarak tempuh, pajak kendaraan, mpg, dan ukuran mesin sebagai data input. Dengan algoritma KNN, proses prediksi harga mobil bekas menjadi lebih cepat dengan memperhatikan nilai yang proporsional untuk setiap kriteria yang digunakan."
      ],
      "metadata": {
        "id": "Tr5ZNsOaKUiy"
      }
    }
  ]
}